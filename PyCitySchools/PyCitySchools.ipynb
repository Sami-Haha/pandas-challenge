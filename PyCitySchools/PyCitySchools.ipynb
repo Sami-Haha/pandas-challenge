{
 "cells": [
  {
   "cell_type": "markdown",
   "id": "abe2ff65",
   "metadata": {},
   "source": [
    "# PyCity Schools Module 4 Challenge"
   ]
  },
  {
   "cell_type": "code",
   "execution_count": 2,
   "id": "2c2bc9c7",
   "metadata": {},
   "outputs": [
    {
     "data": {
      "text/html": [
       "<div>\n",
       "<style scoped>\n",
       "    .dataframe tbody tr th:only-of-type {\n",
       "        vertical-align: middle;\n",
       "    }\n",
       "\n",
       "    .dataframe tbody tr th {\n",
       "        vertical-align: top;\n",
       "    }\n",
       "\n",
       "    .dataframe thead th {\n",
       "        text-align: right;\n",
       "    }\n",
       "</style>\n",
       "<table border=\"1\" class=\"dataframe\">\n",
       "  <thead>\n",
       "    <tr style=\"text-align: right;\">\n",
       "      <th></th>\n",
       "      <th>Student ID</th>\n",
       "      <th>student_name</th>\n",
       "      <th>gender</th>\n",
       "      <th>year</th>\n",
       "      <th>school_name</th>\n",
       "      <th>reading_score</th>\n",
       "      <th>maths_score</th>\n",
       "      <th>School ID</th>\n",
       "      <th>type</th>\n",
       "      <th>size</th>\n",
       "      <th>budget</th>\n",
       "    </tr>\n",
       "  </thead>\n",
       "  <tbody>\n",
       "    <tr>\n",
       "      <th>0</th>\n",
       "      <td>0</td>\n",
       "      <td>Paul Bradley</td>\n",
       "      <td>M</td>\n",
       "      <td>9</td>\n",
       "      <td>Huang High School</td>\n",
       "      <td>96</td>\n",
       "      <td>94</td>\n",
       "      <td>0</td>\n",
       "      <td>Government</td>\n",
       "      <td>2917</td>\n",
       "      <td>1910635</td>\n",
       "    </tr>\n",
       "    <tr>\n",
       "      <th>1</th>\n",
       "      <td>1</td>\n",
       "      <td>Victor Smith</td>\n",
       "      <td>M</td>\n",
       "      <td>12</td>\n",
       "      <td>Huang High School</td>\n",
       "      <td>90</td>\n",
       "      <td>43</td>\n",
       "      <td>0</td>\n",
       "      <td>Government</td>\n",
       "      <td>2917</td>\n",
       "      <td>1910635</td>\n",
       "    </tr>\n",
       "    <tr>\n",
       "      <th>2</th>\n",
       "      <td>2</td>\n",
       "      <td>Kevin Rodriguez</td>\n",
       "      <td>M</td>\n",
       "      <td>12</td>\n",
       "      <td>Huang High School</td>\n",
       "      <td>41</td>\n",
       "      <td>76</td>\n",
       "      <td>0</td>\n",
       "      <td>Government</td>\n",
       "      <td>2917</td>\n",
       "      <td>1910635</td>\n",
       "    </tr>\n",
       "    <tr>\n",
       "      <th>3</th>\n",
       "      <td>3</td>\n",
       "      <td>Richard Scott</td>\n",
       "      <td>M</td>\n",
       "      <td>12</td>\n",
       "      <td>Huang High School</td>\n",
       "      <td>89</td>\n",
       "      <td>86</td>\n",
       "      <td>0</td>\n",
       "      <td>Government</td>\n",
       "      <td>2917</td>\n",
       "      <td>1910635</td>\n",
       "    </tr>\n",
       "    <tr>\n",
       "      <th>4</th>\n",
       "      <td>4</td>\n",
       "      <td>Bonnie Ray</td>\n",
       "      <td>F</td>\n",
       "      <td>9</td>\n",
       "      <td>Huang High School</td>\n",
       "      <td>87</td>\n",
       "      <td>69</td>\n",
       "      <td>0</td>\n",
       "      <td>Government</td>\n",
       "      <td>2917</td>\n",
       "      <td>1910635</td>\n",
       "    </tr>\n",
       "  </tbody>\n",
       "</table>\n",
       "</div>"
      ],
      "text/plain": [
       "   Student ID     student_name gender  year        school_name  reading_score  \\\n",
       "0           0     Paul Bradley      M     9  Huang High School             96   \n",
       "1           1     Victor Smith      M    12  Huang High School             90   \n",
       "2           2  Kevin Rodriguez      M    12  Huang High School             41   \n",
       "3           3    Richard Scott      M    12  Huang High School             89   \n",
       "4           4       Bonnie Ray      F     9  Huang High School             87   \n",
       "\n",
       "   maths_score  School ID        type  size   budget  \n",
       "0           94          0  Government  2917  1910635  \n",
       "1           43          0  Government  2917  1910635  \n",
       "2           76          0  Government  2917  1910635  \n",
       "3           86          0  Government  2917  1910635  \n",
       "4           69          0  Government  2917  1910635  "
      ]
     },
     "execution_count": 2,
     "metadata": {},
     "output_type": "execute_result"
    }
   ],
   "source": [
    "# Dependencies and Setup\n",
    "import pandas as pd\n",
    "from pathlib import Path\n",
    "\n",
    "# File to Loads \n",
    "school_data_to_load = Path(\"../Resources/schools_complete.csv\")\n",
    "student_data_to_load = Path(\"../Resources/students_complete.csv\")\n",
    "\n",
    "# Read School and Student Data File and store into Pandas DataFrames\n",
    "school_data = pd.read_csv(school_data_to_load)\n",
    "student_data = pd.read_csv(student_data_to_load)\n",
    "\n",
    "# Combine the data into a single dataset.  \n",
    "school_data_complete = pd.merge(student_data, school_data, how=\"left\", on=[\"school_name\", \"school_name\"])\n",
    "school_data_complete.head()"
   ]
  },
  {
   "cell_type": "markdown",
   "id": "45418160",
   "metadata": {},
   "source": [
    "Local Government Area summary DataFile creation - Student results"
   ]
  },
  {
   "cell_type": "code",
   "execution_count": 40,
   "id": "c76eacfb",
   "metadata": {},
   "outputs": [],
   "source": [
    "#Perform claculations for a high level snapshot of students \n",
    "#Calculate the totoal number of schools, store in variable\n",
    "total_schools = school_data['school_name'].count()\n",
    "\n",
    "#Calculate the total number of students, store in variable\n",
    "total_students = student_data['student_name'].count()\n",
    "#Calcluate the toal budget, store in variable.\n",
    "total_budget = school_data['budget'].sum()\n",
    "#Calculate the average maths score\n",
    "avg_math = school_data_complete['maths_score'].mean()\n",
    "#Calculate the average reading score\n",
    "avg_read = school_data_complete['reading_score'].mean()\n",
    "#Calculate the percent passing maths. Pass grade is 50\n",
    "#Filter out those that received less than 50\n",
    "passed_math = school_data_complete.loc[school_data_complete['maths_score']>49,:]\n",
    "percent_math = passed_math['student_name'].count()/total_students *100\n",
    "#Calculate the percent passing reading. Pass grade is 50\n",
    "#filter out those that received less than 50.\n",
    "passed_read = school_data_complete.loc[school_data_complete['reading_score']>49,:]\n",
    "percent_read = passed_read['student_name'].count()/ total_students * 100\n",
    "#Calculate the percent who passed both maths and reading. Combine passed_math and passed_read\n",
    "passed_both = school_data_complete.loc[(school_data_complete['maths_score']>49) &\n",
    "                                      (school_data_complete['reading_score']>49)]\n",
    "percent_passed = passed_both['student_name'].count() / total_students * 100\n",
    "\n"
   ]
  },
  {
   "cell_type": "code",
   "execution_count": 43,
   "id": "ee8e11c1",
   "metadata": {},
   "outputs": [],
   "source": [
    "#create the DataFile of the above results, called 'area_summary. and apply some formatting\n",
    "area_summary = pd.DataFrame([[total_schools, total_students, total_budget, avg_math, avg_read,\n",
    "                              percent_math, percent_read, percent_passed]],\n",
    "                            columns=['Total Schools', 'Total Students', 'Total Budget', 'Average Maths Score',\n",
    "                                    'Average Reading Score', '% Passing Maths', '% Passing Reading', \n",
    "                                    '% Overall Passing'])\n",
    "#apply formatting using mapping\n",
    "#area_summary[]\n",
    "#area_summary['Total Students'].map(\"{:,}\")\n"
   ]
  },
  {
   "cell_type": "code",
   "execution_count": null,
   "id": "7f679d72",
   "metadata": {},
   "outputs": [],
   "source": []
  },
  {
   "cell_type": "markdown",
   "id": "41ac470c",
   "metadata": {},
   "source": [
    "Local Government Area summary DataFile creation - School results"
   ]
  },
  {
   "cell_type": "code",
   "execution_count": 17,
   "id": "9354971f",
   "metadata": {},
   "outputs": [
    {
     "data": {
      "text/plain": [
       "school_name\n",
       "Bailey High School       72.352894\n",
       "Cabrera High School      71.657158\n",
       "Figueroa High School     68.698542\n",
       "Ford High School         69.091274\n",
       "Griffin High School      71.788147\n",
       "Hernandez High School    68.874865\n",
       "Holden High School       72.583138\n",
       "Huang High School        68.935207\n",
       "Johnson High School      68.843100\n",
       "Pena High School         72.088358\n",
       "Rodriguez High School    72.047762\n",
       "Shelton High School      72.034072\n",
       "Thomas High School       69.581651\n",
       "Wilson High School       69.170828\n",
       "Wright High School       72.047222\n",
       "Name: maths_score, dtype: float64"
      ]
     },
     "execution_count": 17,
     "metadata": {},
     "output_type": "execute_result"
    }
   ],
   "source": [
    "#Perform calculations for a high level snapshot of school data.\n",
    "# columns for df are 'School Type', 'Total Students', 'Per student Budget', 'Average Maths Score', '% Passing Maths','% Passing Reading', '% Overall Passing'\n",
    "# Create a dataframe sorted by schools\n",
    "schools_sorted = school_data_complete.groupby('school_name')\n",
    "math_avg = schools_sorted['maths_score'].mean()\n",
    "read_avg = schools_sorted['read_score'].mean()\n"
   ]
  },
  {
   "cell_type": "code",
   "execution_count": null,
   "id": "6af58d8d",
   "metadata": {},
   "outputs": [],
   "source": []
  }
 ],
 "metadata": {
  "kernelspec": {
   "display_name": "Python 3 (ipykernel)",
   "language": "python",
   "name": "python3"
  },
  "language_info": {
   "codemirror_mode": {
    "name": "ipython",
    "version": 3
   },
   "file_extension": ".py",
   "mimetype": "text/x-python",
   "name": "python",
   "nbconvert_exporter": "python",
   "pygments_lexer": "ipython3",
   "version": "3.10.13"
  }
 },
 "nbformat": 4,
 "nbformat_minor": 5
}
