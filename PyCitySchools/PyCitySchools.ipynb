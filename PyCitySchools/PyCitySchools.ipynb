{
 "cells": [
  {
   "cell_type": "markdown",
   "id": "2404bb67",
   "metadata": {},
   "source": [
    "# PyCity Schools Module 4 Challenge"
   ]
  },
  {
   "cell_type": "code",
   "execution_count": 2,
   "id": "ff7e8d06",
   "metadata": {},
   "outputs": [
    {
     "data": {
      "text/html": [
       "<div>\n",
       "<style scoped>\n",
       "    .dataframe tbody tr th:only-of-type {\n",
       "        vertical-align: middle;\n",
       "    }\n",
       "\n",
       "    .dataframe tbody tr th {\n",
       "        vertical-align: top;\n",
       "    }\n",
       "\n",
       "    .dataframe thead th {\n",
       "        text-align: right;\n",
       "    }\n",
       "</style>\n",
       "<table border=\"1\" class=\"dataframe\">\n",
       "  <thead>\n",
       "    <tr style=\"text-align: right;\">\n",
       "      <th></th>\n",
       "      <th>Student ID</th>\n",
       "      <th>student_name</th>\n",
       "      <th>gender</th>\n",
       "      <th>year</th>\n",
       "      <th>school_name</th>\n",
       "      <th>reading_score</th>\n",
       "      <th>maths_score</th>\n",
       "      <th>School ID</th>\n",
       "      <th>type</th>\n",
       "      <th>size</th>\n",
       "      <th>budget</th>\n",
       "    </tr>\n",
       "  </thead>\n",
       "  <tbody>\n",
       "    <tr>\n",
       "      <th>0</th>\n",
       "      <td>0</td>\n",
       "      <td>Paul Bradley</td>\n",
       "      <td>M</td>\n",
       "      <td>9</td>\n",
       "      <td>Huang High School</td>\n",
       "      <td>96</td>\n",
       "      <td>94</td>\n",
       "      <td>0</td>\n",
       "      <td>Government</td>\n",
       "      <td>2917</td>\n",
       "      <td>1910635</td>\n",
       "    </tr>\n",
       "    <tr>\n",
       "      <th>1</th>\n",
       "      <td>1</td>\n",
       "      <td>Victor Smith</td>\n",
       "      <td>M</td>\n",
       "      <td>12</td>\n",
       "      <td>Huang High School</td>\n",
       "      <td>90</td>\n",
       "      <td>43</td>\n",
       "      <td>0</td>\n",
       "      <td>Government</td>\n",
       "      <td>2917</td>\n",
       "      <td>1910635</td>\n",
       "    </tr>\n",
       "    <tr>\n",
       "      <th>2</th>\n",
       "      <td>2</td>\n",
       "      <td>Kevin Rodriguez</td>\n",
       "      <td>M</td>\n",
       "      <td>12</td>\n",
       "      <td>Huang High School</td>\n",
       "      <td>41</td>\n",
       "      <td>76</td>\n",
       "      <td>0</td>\n",
       "      <td>Government</td>\n",
       "      <td>2917</td>\n",
       "      <td>1910635</td>\n",
       "    </tr>\n",
       "    <tr>\n",
       "      <th>3</th>\n",
       "      <td>3</td>\n",
       "      <td>Richard Scott</td>\n",
       "      <td>M</td>\n",
       "      <td>12</td>\n",
       "      <td>Huang High School</td>\n",
       "      <td>89</td>\n",
       "      <td>86</td>\n",
       "      <td>0</td>\n",
       "      <td>Government</td>\n",
       "      <td>2917</td>\n",
       "      <td>1910635</td>\n",
       "    </tr>\n",
       "    <tr>\n",
       "      <th>4</th>\n",
       "      <td>4</td>\n",
       "      <td>Bonnie Ray</td>\n",
       "      <td>F</td>\n",
       "      <td>9</td>\n",
       "      <td>Huang High School</td>\n",
       "      <td>87</td>\n",
       "      <td>69</td>\n",
       "      <td>0</td>\n",
       "      <td>Government</td>\n",
       "      <td>2917</td>\n",
       "      <td>1910635</td>\n",
       "    </tr>\n",
       "  </tbody>\n",
       "</table>\n",
       "</div>"
      ],
      "text/plain": [
       "   Student ID     student_name gender  year        school_name  reading_score  \\\n",
       "0           0     Paul Bradley      M     9  Huang High School             96   \n",
       "1           1     Victor Smith      M    12  Huang High School             90   \n",
       "2           2  Kevin Rodriguez      M    12  Huang High School             41   \n",
       "3           3    Richard Scott      M    12  Huang High School             89   \n",
       "4           4       Bonnie Ray      F     9  Huang High School             87   \n",
       "\n",
       "   maths_score  School ID        type  size   budget  \n",
       "0           94          0  Government  2917  1910635  \n",
       "1           43          0  Government  2917  1910635  \n",
       "2           76          0  Government  2917  1910635  \n",
       "3           86          0  Government  2917  1910635  \n",
       "4           69          0  Government  2917  1910635  "
      ]
     },
     "execution_count": 2,
     "metadata": {},
     "output_type": "execute_result"
    }
   ],
   "source": [
    "# Dependencies and Setup\n",
    "import pandas as pd\n",
    "from pathlib import Path\n",
    "\n",
    "# File to Loads \n",
    "school_data_to_load = Path(\"../Resources/schools_complete.csv\")\n",
    "student_data_to_load = Path(\"../Resources/students_complete.csv\")\n",
    "\n",
    "# Read School and Student Data File and store into Pandas DataFrames\n",
    "school_data = pd.read_csv(school_data_to_load)\n",
    "student_data = pd.read_csv(student_data_to_load)\n",
    "\n",
    "# Combine the data into a single dataset.  \n",
    "school_data_complete = pd.merge(student_data, school_data, how=\"left\", on=[\"school_name\", \"school_name\"])\n",
    "school_data_complete.head()"
   ]
  },
  {
   "cell_type": "markdown",
   "id": "c47a2405",
   "metadata": {},
   "source": [
    "Local Government Area summary DataFile creation - Student results"
   ]
  },
  {
   "cell_type": "code",
   "execution_count": 103,
   "id": "1ffd0ea3",
   "metadata": {},
   "outputs": [],
   "source": [
    "#Perform claculations for a high level snapshot of students \n",
    "#Calculate the total number of schools, store in variable\n",
    "total_schools = school_data['school_name'].count()\n",
    "#Calculate the total number of students, store in variable\n",
    "total_students = student_data['student_name'].count()\n",
    "#Calcluate the toal budget, store in variable.\n",
    "total_budget = school_data['budget'].sum()\n",
    "#Calculate the average maths score\n",
    "avg_math = school_data_complete['maths_score'].mean()\n",
    "#Calculate the average reading score\n",
    "avg_read = school_data_complete['reading_score'].mean()\n",
    "#Calculate the percent passing maths. Pass grade is 50\n",
    "#Filter out those that received less than 50\n",
    "passed_math = school_data_complete.loc[school_data_complete['maths_score']>49,:]\n",
    "percent_math = passed_math['student_name'].count()/total_students *100\n",
    "#Calculate the percent passing reading. Pass grade is 50\n",
    "#filter out those that received less than 50.\n",
    "passed_read = school_data_complete.loc[school_data_complete['reading_score']>49,:]\n",
    "percent_read = passed_read['student_name'].count()/ total_students * 100\n",
    "#Calculate the percent who passed both maths and reading. Combine passed_math and passed_read\n",
    "passed_both = school_data_complete.loc[(school_data_complete['maths_score']>49) &\n",
    "                                      (school_data_complete['reading_score']>49)]\n",
    "percent_passed = passed_both['student_name'].count() / total_students * 100\n",
    "\n",
    "\n"
   ]
  },
  {
   "cell_type": "code",
   "execution_count": 65,
   "id": "edbbcd59",
   "metadata": {},
   "outputs": [
    {
     "data": {
      "text/html": [
       "<div>\n",
       "<style scoped>\n",
       "    .dataframe tbody tr th:only-of-type {\n",
       "        vertical-align: middle;\n",
       "    }\n",
       "\n",
       "    .dataframe tbody tr th {\n",
       "        vertical-align: top;\n",
       "    }\n",
       "\n",
       "    .dataframe thead th {\n",
       "        text-align: right;\n",
       "    }\n",
       "</style>\n",
       "<table border=\"1\" class=\"dataframe\">\n",
       "  <thead>\n",
       "    <tr style=\"text-align: right;\">\n",
       "      <th></th>\n",
       "      <th>Total Schools</th>\n",
       "      <th>Total Students</th>\n",
       "      <th>Total Budget</th>\n",
       "      <th>Average Maths Score</th>\n",
       "      <th>Average Reading Score</th>\n",
       "      <th>% Passing Maths</th>\n",
       "      <th>% Passing Reading</th>\n",
       "      <th>% Overall Passing</th>\n",
       "    </tr>\n",
       "  </thead>\n",
       "  <tbody>\n",
       "    <tr>\n",
       "      <th>0</th>\n",
       "      <td>15</td>\n",
       "      <td>39170</td>\n",
       "      <td>24649428</td>\n",
       "      <td>70.338192</td>\n",
       "      <td>69.980138</td>\n",
       "      <td>86.078632</td>\n",
       "      <td>84.426857</td>\n",
       "      <td>72.808272</td>\n",
       "    </tr>\n",
       "  </tbody>\n",
       "</table>\n",
       "</div>"
      ],
      "text/plain": [
       "   Total Schools  Total Students  Total Budget  Average Maths Score  \\\n",
       "0             15           39170      24649428            70.338192   \n",
       "\n",
       "   Average Reading Score  % Passing Maths  % Passing Reading  \\\n",
       "0              69.980138        86.078632          84.426857   \n",
       "\n",
       "   % Overall Passing  \n",
       "0          72.808272  "
      ]
     },
     "execution_count": 65,
     "metadata": {},
     "output_type": "execute_result"
    }
   ],
   "source": [
    "#create the DataFile of the above results, called 'area_summary. and apply some formatting\n",
    "area_summary = pd.DataFrame([[total_schools, total_students, total_budget, avg_math, avg_read,\n",
    "                              percent_math, percent_read, percent_passed]],\n",
    "                            columns=['Total Schools', 'Total Students', 'Total Budget', 'Average Maths Score',\n",
    "                                    'Average Reading Score', '% Passing Maths', '% Passing Reading', \n",
    "                                    '% Overall Passing'])\n",
    "\n"
   ]
  },
  {
   "cell_type": "markdown",
   "id": "ceec9b2f",
   "metadata": {},
   "source": [
    "School Summary creation"
   ]
  },
  {
   "cell_type": "code",
   "execution_count": 135,
   "id": "e0c48d0c",
   "metadata": {},
   "outputs": [],
   "source": [
    "#Perform calculations for a high level snapshot of school data.\n",
    "#apply sorting by school on the passed math list\n",
    "math_sort = pd.DataFrame(passed_math.groupby(['school_name', 'size'])['student_name'].count())\n",
    "read_sort = pd.DataFrame(passed_read.groupby(['school_name', 'size'])['student_name'].count())\n",
    "comb_sort = pd.DataFrame(passed_read.groupby(['school_name', 'size'])['student_name'].count())"
   ]
  },
  {
   "cell_type": "code",
   "execution_count": 132,
   "id": "91c24c1d",
   "metadata": {},
   "outputs": [],
   "source": []
  },
  {
   "cell_type": "code",
   "execution_count": null,
   "id": "2452c3fb",
   "metadata": {},
   "outputs": [],
   "source": [
    "#create the DataFile of the above results, called 'area_summary. and apply some formatting\n",
    "area_summary = pd.DataFrame([[total_schools, total_students, total_budget, avg_math, avg_read,\n",
    "                              percent_math, percent_read, percent_passed]],\n",
    "                            columns=['Total Schools', 'Total Students', 'Total Budget', 'Average Maths Score',\n",
    "                                    'Average Reading Score', '% Passing Maths', '% Passing Reading', \n",
    "                                    '% Overall Passing'])"
   ]
  },
  {
   "cell_type": "code",
   "execution_count": 134,
   "id": "8097b87b",
   "metadata": {},
   "outputs": [
    {
     "ename": "AttributeError",
     "evalue": "'DataFrameGroupBy' object has no attribute 'reset_index'",
     "output_type": "error",
     "traceback": [
      "\u001b[0;31m---------------------------------------------------------------------------\u001b[0m",
      "\u001b[0;31mAttributeError\u001b[0m                            Traceback (most recent call last)",
      "Cell \u001b[0;32mIn[134], line 3\u001b[0m\n\u001b[1;32m      1\u001b[0m \u001b[38;5;66;03m# Create a dataframe sorted by schools\u001b[39;00m\n\u001b[1;32m      2\u001b[0m schools_sorted \u001b[38;5;241m=\u001b[39m school_data_complete\u001b[38;5;241m.\u001b[39mgroupby([\u001b[38;5;124m'\u001b[39m\u001b[38;5;124mschool_name\u001b[39m\u001b[38;5;124m'\u001b[39m])\n\u001b[0;32m----> 3\u001b[0m schools_sorted_df \u001b[38;5;241m=\u001b[39m \u001b[43mschools_sorted\u001b[49m\u001b[38;5;241;43m.\u001b[39;49m\u001b[43mreset_index\u001b[49m()\n\u001b[1;32m      4\u001b[0m \u001b[38;5;66;03m#perform calculations on new dataframe\u001b[39;00m\n\u001b[1;32m      5\u001b[0m S_math_avg \u001b[38;5;241m=\u001b[39m schools_sorted[\u001b[38;5;124m'\u001b[39m\u001b[38;5;124mmaths_score\u001b[39m\u001b[38;5;124m'\u001b[39m]\u001b[38;5;241m.\u001b[39mmean()\n",
      "File \u001b[0;32m~/anaconda3/envs/dev/lib/python3.10/site-packages/pandas/core/groupby/groupby.py:952\u001b[0m, in \u001b[0;36mGroupBy.__getattr__\u001b[0;34m(self, attr)\u001b[0m\n\u001b[1;32m    949\u001b[0m \u001b[38;5;28;01mif\u001b[39;00m attr \u001b[38;5;129;01min\u001b[39;00m \u001b[38;5;28mself\u001b[39m\u001b[38;5;241m.\u001b[39mobj:\n\u001b[1;32m    950\u001b[0m     \u001b[38;5;28;01mreturn\u001b[39;00m \u001b[38;5;28mself\u001b[39m[attr]\n\u001b[0;32m--> 952\u001b[0m \u001b[38;5;28;01mraise\u001b[39;00m \u001b[38;5;167;01mAttributeError\u001b[39;00m(\n\u001b[1;32m    953\u001b[0m     \u001b[38;5;124mf\u001b[39m\u001b[38;5;124m\"\u001b[39m\u001b[38;5;124m'\u001b[39m\u001b[38;5;132;01m{\u001b[39;00m\u001b[38;5;28mtype\u001b[39m(\u001b[38;5;28mself\u001b[39m)\u001b[38;5;241m.\u001b[39m\u001b[38;5;18m__name__\u001b[39m\u001b[38;5;132;01m}\u001b[39;00m\u001b[38;5;124m'\u001b[39m\u001b[38;5;124m object has no attribute \u001b[39m\u001b[38;5;124m'\u001b[39m\u001b[38;5;132;01m{\u001b[39;00mattr\u001b[38;5;132;01m}\u001b[39;00m\u001b[38;5;124m'\u001b[39m\u001b[38;5;124m\"\u001b[39m\n\u001b[1;32m    954\u001b[0m )\n",
      "\u001b[0;31mAttributeError\u001b[0m: 'DataFrameGroupBy' object has no attribute 'reset_index'"
     ]
    }
   ],
   "source": [
    "# Create a dataframe sorted by schools\n",
    "schools_sorted = school_data_complete.groupby(['school_name'])\n",
    "schools_sorted_df = schools_sorted.reset_index()\n",
    "#perform calculations on new dataframe\n",
    "S_math_avg = schools_sorted['maths_score'].mean()\n",
    "S_read_avg = schools_sorted['reading_score'].mean()\n",
    "S_stud_budget = (school_data['budget']/ school_data['size'])\n",
    "#S_passed_math = schools_sorted['maths_score'].mean()\n",
    "\n",
    "#percent_read = passed_read['student_name'].count()/ total_students * 100\n",
    "\n",
    "# columns for df are 'School Type', 'Total Students', 'Total School Budget', 'Per student Budget', 'Average Maths Score', '% Passing Maths','% Passing Reading', '% Overall Passing'\n",
    "S_math_count = math_sort['maths_score'].count()\n",
    "\n",
    "\n",
    "# create simplified DataFrame with only the columns we need, sorted by school name first. Named SS_simple\n",
    "SS_simple = schools_sorted[['school_name','type','size', 'budget','student_name','reading_score', 'maths_score',]]\n",
    "school_data_complete = pd.merge(student_data, school_data, how=\"left\", on=[\"school_name\", \"school_name\"])"
   ]
  },
  {
   "cell_type": "markdown",
   "id": "c5822957",
   "metadata": {},
   "source": [
    "Highest performing schools (by % Overall Passing)"
   ]
  },
  {
   "cell_type": "code",
   "execution_count": null,
   "id": "e1e363b8",
   "metadata": {},
   "outputs": [],
   "source": [
    "top_schools = df.head()"
   ]
  },
  {
   "cell_type": "markdown",
   "id": "e2c63d16",
   "metadata": {},
   "source": [
    "Lowest Performing Schools (by % Overall Passing)"
   ]
  },
  {
   "cell_type": "code",
   "execution_count": null,
   "id": "b7b06140",
   "metadata": {},
   "outputs": [],
   "source": [
    "bottom_schools = df.head()"
   ]
  },
  {
   "cell_type": "markdown",
   "id": "13077e20",
   "metadata": {},
   "source": [
    "Maths Scores by Year"
   ]
  },
  {
   "cell_type": "code",
   "execution_count": null,
   "id": "2446a44d",
   "metadata": {},
   "outputs": [],
   "source": []
  },
  {
   "cell_type": "markdown",
   "id": "6cdb04ef",
   "metadata": {},
   "source": [
    "Reading Scores by year"
   ]
  },
  {
   "cell_type": "code",
   "execution_count": null,
   "id": "b79898a4",
   "metadata": {},
   "outputs": [],
   "source": []
  },
  {
   "cell_type": "markdown",
   "id": "31526a42",
   "metadata": {},
   "source": [
    "Scores by School Spending"
   ]
  },
  {
   "cell_type": "code",
   "execution_count": null,
   "id": "65bb94b9",
   "metadata": {},
   "outputs": [],
   "source": [
    "spending_bins = [0, 585, 630, 645, 680]\n",
    "labels = [\"<$585\", \"$585-630\", \"$630-645\", \"$645-680\"]"
   ]
  },
  {
   "cell_type": "code",
   "execution_count": null,
   "id": "967a4c8f",
   "metadata": {},
   "outputs": [],
   "source": [
    "#mean scores by spending range for spending_summary\n",
    "spending_math_scores = school_spending_df.groupby([\"Spending Ranges (Per Student)\"])[\"Average Math Score\"].mean()\n",
    "spending_reading_scores = school_spending_df.groupby([\"Spending Ranges (Per Student)\"])[\"Average Reading Score\"].mean()\n",
    "spending_passing_math = school_spending_df.groupby([\"Spending Ranges (Per Student)\"])[\"% Passing Math\"].mean()\n",
    "spending_passing_reading = school_spending_df.groupby([\"Spending Ranges (Per Student)\"])[\"% Passing Reading\"].mean()\n",
    "overall_passing_spending = school_spending_df.groupby([\"Spending Ranges (Per Student)\"])[\"% Overall Passing\"].mean()"
   ]
  },
  {
   "cell_type": "code",
   "execution_count": null,
   "id": "33acb83b",
   "metadata": {},
   "outputs": [],
   "source": [
    "#per_school_summary code and for type_summary, size_summary\n",
    "size_bins = [0, 1000, 2000, 5000]\n",
    "labels = [\"Small (<1000)\", \"Medium (1000-2000)\", \"Large (2000-5000)\"]"
   ]
  },
  {
   "cell_type": "code",
   "execution_count": null,
   "id": "eea38f10",
   "metadata": {},
   "outputs": [],
   "source": []
  },
  {
   "cell_type": "code",
   "execution_count": null,
   "id": "9444c921",
   "metadata": {},
   "outputs": [],
   "source": []
  },
  {
   "cell_type": "code",
   "execution_count": null,
   "id": "7b6be558",
   "metadata": {},
   "outputs": [],
   "source": []
  },
  {
   "cell_type": "code",
   "execution_count": null,
   "id": "2a7a9b29",
   "metadata": {},
   "outputs": [],
   "source": []
  }
 ],
 "metadata": {
  "kernelspec": {
   "display_name": "Python 3 (ipykernel)",
   "language": "python",
   "name": "python3"
  },
  "language_info": {
   "codemirror_mode": {
    "name": "ipython",
    "version": 3
   },
   "file_extension": ".py",
   "mimetype": "text/x-python",
   "name": "python",
   "nbconvert_exporter": "python",
   "pygments_lexer": "ipython3",
   "version": "3.10.13"
  }
 },
 "nbformat": 4,
 "nbformat_minor": 5
}
