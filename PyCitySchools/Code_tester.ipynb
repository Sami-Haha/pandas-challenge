{
 "cells": [
  {
   "cell_type": "code",
   "execution_count": 1,
   "id": "376b54b2",
   "metadata": {},
   "outputs": [],
   "source": [
    "# Dependencies and Setup\n",
    "import pandas as pd\n",
    "from pathlib import Path\n",
    "\n",
    "# File to Loads \n",
    "school_data_to_load = Path(\"../Resources/schools_complete.csv\")\n",
    "student_data_to_load = Path(\"../Resources/students_complete.csv\")\n",
    "\n",
    "# Read School and Student Data File and store into Pandas DataFrames\n",
    "school_data = pd.read_csv(school_data_to_load)\n",
    "student_data = pd.read_csv(student_data_to_load)\n",
    "\n",
    "# Combine the data into a single dataset.  \n",
    "school_data_complete = pd.merge(student_data, school_data, how=\"left\", on=[\"school_name\", \"school_name\"])"
   ]
  },
  {
   "cell_type": "code",
   "execution_count": 2,
   "id": "5a07c711",
   "metadata": {},
   "outputs": [],
   "source": [
    "#Filter out those that received less than 50\n",
    "passed_math = school_data_complete.loc[school_data_complete['maths_score']>49,:]"
   ]
  },
  {
   "cell_type": "code",
   "execution_count": 59,
   "id": "d801e3e1",
   "metadata": {},
   "outputs": [
    {
     "ename": "TypeError",
     "evalue": "list.count() takes exactly one argument (0 given)",
     "output_type": "error",
     "traceback": [
      "\u001b[0;31m---------------------------------------------------------------------------\u001b[0m",
      "\u001b[0;31mTypeError\u001b[0m                                 Traceback (most recent call last)",
      "Cell \u001b[0;32mIn[59], line 3\u001b[0m\n\u001b[1;32m      1\u001b[0m \u001b[38;5;66;03m#Perform calculations for a high level snapshot of school data.\u001b[39;00m\n\u001b[1;32m      2\u001b[0m \u001b[38;5;66;03m#apply sorting by school on the passed math list\u001b[39;00m\n\u001b[0;32m----> 3\u001b[0m math_sort \u001b[38;5;241m=\u001b[39m passed_math\u001b[38;5;241m.\u001b[39mgroupby([\u001b[38;5;124m'\u001b[39m\u001b[38;5;124mschool_name\u001b[39m\u001b[38;5;124m'\u001b[39m]) ,[\u001b[38;5;124m'\u001b[39m\u001b[38;5;124msize\u001b[39m\u001b[38;5;124m'\u001b[39m],\u001b[43m[\u001b[49m\u001b[38;5;124;43m'\u001b[39;49m\u001b[38;5;124;43mstudent_name\u001b[39;49m\u001b[38;5;124;43m'\u001b[39;49m\u001b[43m]\u001b[49m\u001b[38;5;241;43m.\u001b[39;49m\u001b[43mcount\u001b[49m\u001b[43m(\u001b[49m\u001b[43m)\u001b[49m\n\u001b[1;32m      4\u001b[0m math_df \u001b[38;5;241m=\u001b[39m pd\u001b[38;5;241m.\u001b[39mDataFrame(passed_math\u001b[38;5;241m.\u001b[39mgroupby([\u001b[38;5;124m'\u001b[39m\u001b[38;5;124mschool_name\u001b[39m\u001b[38;5;124m'\u001b[39m, \u001b[38;5;124m'\u001b[39m\u001b[38;5;124msize\u001b[39m\u001b[38;5;124m'\u001b[39m])[\u001b[38;5;124m'\u001b[39m\u001b[38;5;124mstudent_name\u001b[39m\u001b[38;5;124m'\u001b[39m]\u001b[38;5;241m.\u001b[39mcount())\n\u001b[1;32m      6\u001b[0m \u001b[38;5;66;03m#math_df = math_df.astype(int)\u001b[39;00m\n",
      "\u001b[0;31mTypeError\u001b[0m: list.count() takes exactly one argument (0 given)"
     ]
    }
   ],
   "source": [
    "#Perform calculations for a high level snapshot of school data.\n",
    "#apply sorting by school on the passed math list\n",
    "math_sort = passed_math.groupby(['school_name']) ,['size'],['student_name'].count()\n",
    "math_df = pd.DataFrame(passed_math.groupby(['school_name', 'size'])['student_name'].count())\n",
    "\n",
    "#math_df = math_df.astype(int)\n",
    "\n",
    "math_df"
   ]
  },
  {
   "cell_type": "code",
   "execution_count": null,
   "id": "09e9f764",
   "metadata": {},
   "outputs": [],
   "source": []
  },
  {
   "cell_type": "code",
   "execution_count": null,
   "id": "6a1ab839",
   "metadata": {},
   "outputs": [],
   "source": []
  },
  {
   "cell_type": "code",
   "execution_count": 35,
   "id": "f16bed18",
   "metadata": {},
   "outputs": [
    {
     "data": {
      "text/html": [
       "<div>\n",
       "<style scoped>\n",
       "    .dataframe tbody tr th:only-of-type {\n",
       "        vertical-align: middle;\n",
       "    }\n",
       "\n",
       "    .dataframe tbody tr th {\n",
       "        vertical-align: top;\n",
       "    }\n",
       "\n",
       "    .dataframe thead th {\n",
       "        text-align: right;\n",
       "    }\n",
       "</style>\n",
       "<table border=\"1\" class=\"dataframe\">\n",
       "  <thead>\n",
       "    <tr style=\"text-align: right;\">\n",
       "      <th></th>\n",
       "      <th></th>\n",
       "      <th>student_name</th>\n",
       "    </tr>\n",
       "    <tr>\n",
       "      <th>school_name</th>\n",
       "      <th>size</th>\n",
       "      <th></th>\n",
       "    </tr>\n",
       "  </thead>\n",
       "  <tbody>\n",
       "    <tr>\n",
       "      <th>Bailey High School</th>\n",
       "      <th>4976</th>\n",
       "      <td>4560</td>\n",
       "    </tr>\n",
       "    <tr>\n",
       "      <th>Cabrera High School</th>\n",
       "      <th>1858</th>\n",
       "      <td>1688</td>\n",
       "    </tr>\n",
       "    <tr>\n",
       "      <th>Figueroa High School</th>\n",
       "      <th>2949</th>\n",
       "      <td>2408</td>\n",
       "    </tr>\n",
       "    <tr>\n",
       "      <th>Ford High School</th>\n",
       "      <th>2739</th>\n",
       "      <td>2258</td>\n",
       "    </tr>\n",
       "    <tr>\n",
       "      <th>Griffin High School</th>\n",
       "      <th>1468</th>\n",
       "      <td>1339</td>\n",
       "    </tr>\n",
       "    <tr>\n",
       "      <th>Hernandez High School</th>\n",
       "      <th>4635</th>\n",
       "      <td>3752</td>\n",
       "    </tr>\n",
       "    <tr>\n",
       "      <th>Holden High School</th>\n",
       "      <th>427</th>\n",
       "      <td>384</td>\n",
       "    </tr>\n",
       "    <tr>\n",
       "      <th>Huang High School</th>\n",
       "      <th>2917</th>\n",
       "      <td>2383</td>\n",
       "    </tr>\n",
       "    <tr>\n",
       "      <th>Johnson High School</th>\n",
       "      <th>4761</th>\n",
       "      <td>3907</td>\n",
       "    </tr>\n",
       "    <tr>\n",
       "      <th>Pena High School</th>\n",
       "      <th>962</th>\n",
       "      <td>882</td>\n",
       "    </tr>\n",
       "    <tr>\n",
       "      <th>Rodriguez High School</th>\n",
       "      <th>3999</th>\n",
       "      <td>3631</td>\n",
       "    </tr>\n",
       "    <tr>\n",
       "      <th>Shelton High School</th>\n",
       "      <th>1761</th>\n",
       "      <td>1612</td>\n",
       "    </tr>\n",
       "    <tr>\n",
       "      <th>Thomas High School</th>\n",
       "      <th>1635</th>\n",
       "      <td>1371</td>\n",
       "    </tr>\n",
       "    <tr>\n",
       "      <th>Wilson High School</th>\n",
       "      <th>2283</th>\n",
       "      <td>1890</td>\n",
       "    </tr>\n",
       "    <tr>\n",
       "      <th>Wright High School</th>\n",
       "      <th>1800</th>\n",
       "      <td>1652</td>\n",
       "    </tr>\n",
       "  </tbody>\n",
       "</table>\n",
       "</div>"
      ],
      "text/plain": [
       "                            student_name\n",
       "school_name           size              \n",
       "Bailey High School    4976          4560\n",
       "Cabrera High School   1858          1688\n",
       "Figueroa High School  2949          2408\n",
       "Ford High School      2739          2258\n",
       "Griffin High School   1468          1339\n",
       "Hernandez High School 4635          3752\n",
       "Holden High School    427            384\n",
       "Huang High School     2917          2383\n",
       "Johnson High School   4761          3907\n",
       "Pena High School      962            882\n",
       "Rodriguez High School 3999          3631\n",
       "Shelton High School   1761          1612\n",
       "Thomas High School    1635          1371\n",
       "Wilson High School    2283          1890\n",
       "Wright High School    1800          1652"
      ]
     },
     "execution_count": 35,
     "metadata": {},
     "output_type": "execute_result"
    }
   ],
   "source": [
    "#create datafile of results\n",
    "\n",
    "#create datafile of results\n",
    "SS_p_result = pd.DataFrame(passed_math.groupby(['school_name', 'size'])['student_name'].count())\n",
    "# get percent result\n",
    "#SS_percent = (SS_p_result['student_name']/ SS_p_result['size'])\n",
    "#SS_M_df = pd.DataFrame(SS_p_result)\n",
    "SS_p_result\n",
    "\n"
   ]
  },
  {
   "cell_type": "code",
   "execution_count": null,
   "id": "431da003",
   "metadata": {},
   "outputs": [],
   "source": [
    "\n"
   ]
  },
  {
   "cell_type": "code",
   "execution_count": null,
   "id": "81597653",
   "metadata": {},
   "outputs": [],
   "source": [
    "#create the DataFile of the above results, called 'area_summary. and apply some formatting\n",
    "area_summary = pd.DataFrame([[total_schools, total_students, total_budget, avg_math, avg_read,\n",
    "                              percent_math, percent_read, percent_passed]],\n",
    "                            columns=['Total Schools', 'Total Students', 'Total Budget', 'Average Maths Score',\n",
    "                                    'Average Reading Score', '% Passing Maths', '% Passing Reading', \n",
    "                                    '% Overall Passing'])"
   ]
  },
  {
   "cell_type": "code",
   "execution_count": null,
   "id": "df24d9d7",
   "metadata": {},
   "outputs": [],
   "source": []
  },
  {
   "cell_type": "code",
   "execution_count": null,
   "id": "4a53c0bf",
   "metadata": {},
   "outputs": [],
   "source": []
  }
 ],
 "metadata": {
  "kernelspec": {
   "display_name": "Python 3 (ipykernel)",
   "language": "python",
   "name": "python3"
  },
  "language_info": {
   "codemirror_mode": {
    "name": "ipython",
    "version": 3
   },
   "file_extension": ".py",
   "mimetype": "text/x-python",
   "name": "python",
   "nbconvert_exporter": "python",
   "pygments_lexer": "ipython3",
   "version": "3.10.13"
  }
 },
 "nbformat": 4,
 "nbformat_minor": 5
}
